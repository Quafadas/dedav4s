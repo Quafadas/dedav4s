{
 "cells": [
  {
   "cell_type": "code",
   "execution_count": null,
   "metadata": {},
   "outputs": [],
   "source": [
    "import $ivy.`com.lihaoyi::ujson:1.3.12`\n",
    "import $ivy.`com.lihaoyi::requests:0.6.5`\n",
    "\n",
    "val spec = ujson.read(requests.get(\"https://vega.github.io/vega/examples/bar-chart.vg.json\").text)\n",
    "\n",
    " spec(\"data\")(0)(\"values\") = ujson.Arr(\n",
    "   ujson.Obj(\"category\" -> \"Epic\", \"amount\" -> 50),\n",
    "   ujson.Obj(\"category\" -> \"amounts\", \"amount\" -> 100)\n",
    " )"
   ]
  },
  {
   "cell_type": "code",
   "execution_count": 2,
   "metadata": {},
   "outputs": [],
   "source": [
    "interp.configureCompiler(_.settings.YtastyReader.value = true)"
   ]
  },
  {
   "cell_type": "code",
   "execution_count": 2,
   "metadata": {},
   "outputs": [
    {
     "name": "stderr",
     "output_type": "stream",
     "text": [
      "error while loading PlotTarget, class file '/Users/simon/Library/Caches/Coursier/v1/https/repo1.maven.org/maven2/io/github/quafadas/dedav4s_3/0.0.6/dedav4s_3-0.0.6.jar(viz/PlotTarget.class)' is broken\n",
      "(class scala.tools.tasty.UnpickleException/TASTy signature has wrong version.\n",
      " expected: 24.0\n",
      " found   : 28.0)Compilation Failed"
     ]
    },
    {
     "ename": "",
     "evalue": "",
     "output_type": "error",
     "traceback": [
      "Compilation Failed"
     ]
    }
   ],
   "source": [
    "import $ivy.`io.github.quafadas:dedav4s_3:0.0.6`\n",
    "\n",
    "\n",
    "\n",
    "import viz.PlotTarget.printlnTarget\n"
   ]
  },
  {
   "cell_type": "code",
   "execution_count": 47,
   "metadata": {},
   "outputs": [
    {
     "data": {
      "application/vnd.vega.v5+json": {
       "$schema": "https://vega.github.io/schema/vega/v5.json",
       "axes": [
        {
         "orient": "bottom",
         "scale": "xscale"
        },
        {
         "orient": "left",
         "scale": "yscale"
        }
       ],
       "data": [
        {
         "name": "table",
         "values": [
          {
           "amount": 50,
           "category": "Epic"
          },
          {
           "amount": 100,
           "category": "amounts"
          }
         ]
        }
       ],
       "description": "A basic bar chart example, with value labels shown upon mouse hover.",
       "height": 200,
       "marks": [
        {
         "encode": {
          "enter": {
           "width": {
            "band": 1,
            "scale": "xscale"
           },
           "x": {
            "field": "category",
            "scale": "xscale"
           },
           "y": {
            "field": "amount",
            "scale": "yscale"
           },
           "y2": {
            "scale": "yscale",
            "value": 0
           }
          },
          "hover": {
           "fill": {
            "value": "red"
           }
          },
          "update": {
           "fill": {
            "value": "steelblue"
           }
          }
         },
         "from": {
          "data": "table"
         },
         "type": "rect"
        },
        {
         "encode": {
          "enter": {
           "align": {
            "value": "center"
           },
           "baseline": {
            "value": "bottom"
           },
           "fill": {
            "value": "#333"
           }
          },
          "update": {
           "fillOpacity": [
            {
             "test": "datum === tooltip",
             "value": 0
            },
            {
             "value": 1
            }
           ],
           "text": {
            "signal": "tooltip.amount"
           },
           "x": {
            "band": 0.5,
            "scale": "xscale",
            "signal": "tooltip.category"
           },
           "y": {
            "offset": -2,
            "scale": "yscale",
            "signal": "tooltip.amount"
           }
          }
         },
         "type": "text"
        }
       ],
       "padding": 5,
       "scales": [
        {
         "domain": {
          "data": "table",
          "field": "category"
         },
         "name": "xscale",
         "padding": 0.05,
         "range": "width",
         "round": true,
         "type": "band"
        },
        {
         "domain": {
          "data": "table",
          "field": "amount"
         },
         "name": "yscale",
         "nice": true,
         "range": "height"
        }
       ],
       "signals": [
        {
         "name": "tooltip",
         "on": [
          {
           "events": "rect:mouseover",
           "update": "datum"
          },
          {
           "events": "rect:mouseout",
           "update": "{}"
          }
         ],
         "value": {}
        }
       ],
       "width": 400
      }
     },
     "metadata": {},
     "output_type": "display_data"
    }
   ],
   "source": [
    "kernel.publish.display(\n",
    "  almond.interpreter.api.DisplayData(\n",
    "    data = Map(      \n",
    "      \"application/vnd.vega.v5+json\" -> ujson.write(spec, 2)           \n",
    "    )\n",
    "  )  \n",
    ")"
   ]
  }
 ],
 "metadata": {
  "kernelspec": {
   "display_name": "Scala",
   "language": "scala",
   "name": "scala"
  },
  "language_info": {
   "codemirror_mode": "text/x-scala",
   "file_extension": ".sc",
   "mimetype": "text/x-scala",
   "name": "scala",
   "nbconvert_exporter": "script",
   "version": "2.13.4"
  },
  "orig_nbformat": 4
 },
 "nbformat": 4,
 "nbformat_minor": 2
}
