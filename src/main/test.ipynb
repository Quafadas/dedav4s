{
 "cells": [
  {
   "cell_type": "code",
   "execution_count": null,
   "metadata": {},
   "outputs": [],
   "source": [
    "import $ivy.`com.lihaoyi::ujson:1.3.12`\n",
    "import $ivy.`com.lihaoyi::requests:0.6.5`\n",
    "\n",
    "val spec = ujson.read(requests.get(\"https://vega.github.io/vega/examples/bar-chart.vg.json\").text)\n",
    "\n",
    " spec(\"data\")(0)(\"values\") = ujson.Arr(\n",
    "   ujson.Obj(\"category\" -> \"Epic\", \"amount\" -> 50),\n",
    "   ujson.Obj(\"category\" -> \"amounts\", \"amount\" -> 100)\n",
    " )"
   ]
  },
  {
   "cell_type": "code",
   "execution_count": null,
   "metadata": {},
   "outputs": [],
   "source": [
    "//scala 2 example\n",
    "\n",
    "kernel.publish.display(\n",
    "  almond.interpreter.api.DisplayData(\n",
    "    data = Map(       \n",
    "      \"application/vnd.vega.v5+json\" -> ujson.write(spec, 2)\n",
    "    )\n",
    "  )  \n",
    ")"
   ]
  },
  {
   "cell_type": "code",
   "execution_count": null,
   "metadata": {},
   "outputs": [],
   "source": [
    "scala.util.Properties.versionString"
   ]
  },
  {
   "cell_type": "code",
   "execution_count": 10,
   "metadata": {},
   "outputs": [
    {
     "data": {
      "application/vnd.vega.v5+json": {
       "$schema": "https://vega.github.io/schema/vega/v5.json",
       "axes": [
        {
         "orient": "bottom",
         "scale": "xscale"
        },
        {
         "orient": "left",
         "scale": "yscale"
        }
       ],
       "data": [
        {
         "name": "table",
         "values": [
          {
           "amount": 28,
           "category": "A"
          },
          {
           "amount": 55,
           "category": "B"
          },
          {
           "amount": 43,
           "category": "C"
          },
          {
           "amount": 91,
           "category": "D"
          },
          {
           "amount": 81,
           "category": "E"
          },
          {
           "amount": 53,
           "category": "F"
          },
          {
           "amount": 19,
           "category": "G"
          },
          {
           "amount": 87,
           "category": "H"
          }
         ]
        }
       ],
       "description": "A basic bar chart example, with value labels shown upon mouse hover.",
       "height": 200,
       "marks": [
        {
         "encode": {
          "enter": {
           "width": {
            "band": 1,
            "scale": "xscale"
           },
           "x": {
            "field": "category",
            "scale": "xscale"
           },
           "y": {
            "field": "amount",
            "scale": "yscale"
           },
           "y2": {
            "scale": "yscale",
            "value": 0
           }
          },
          "hover": {
           "fill": {
            "value": "red"
           }
          },
          "update": {
           "fill": {
            "value": "steelblue"
           }
          }
         },
         "from": {
          "data": "table"
         },
         "type": "rect"
        },
        {
         "encode": {
          "enter": {
           "align": {
            "value": "center"
           },
           "baseline": {
            "value": "bottom"
           },
           "fill": {
            "value": "#333"
           }
          },
          "update": {
           "fillOpacity": [
            {
             "test": "datum === tooltip",
             "value": 0
            },
            {
             "value": 1
            }
           ],
           "text": {
            "signal": "tooltip.amount"
           },
           "x": {
            "band": 0.5,
            "scale": "xscale",
            "signal": "tooltip.category"
           },
           "y": {
            "offset": -2,
            "scale": "yscale",
            "signal": "tooltip.amount"
           }
          }
         },
         "type": "text"
        }
       ],
       "padding": 5,
       "scales": [
        {
         "domain": {
          "data": "table",
          "field": "category"
         },
         "name": "xscale",
         "padding": 0.05,
         "range": "width",
         "round": true,
         "type": "band"
        },
        {
         "domain": {
          "data": "table",
          "field": "amount"
         },
         "name": "yscale",
         "nice": true,
         "range": "height"
        }
       ],
       "signals": [
        {
         "name": "tooltip",
         "on": [
          {
           "events": "rect:mouseover",
           "update": "datum"
          },
          {
           "events": "rect:mouseout",
           "update": "{}"
          }
         ],
         "value": {}
        }
       ],
       "title": "Got Viz?",
       "width": 250
      }
     },
     "metadata": {},
     "output_type": "display_data"
    },
    {
     "data": {
      "text/plain": [
       "\u001b[32mimport \u001b[39m\u001b[36m$ivy.$                                  \n",
       "\u001b[39m\n",
       "\u001b[32mimport \u001b[39m\u001b[36mviz.PlotTargets.almond\n",
       "\u001b[39m\n",
       "\u001b[32mimport \u001b[39m\u001b[36mviz.vega.plots.*\n",
       "\n",
       "\u001b[39m\n",
       "\u001b[36mres9_3\u001b[39m: \u001b[32mBarChart\u001b[39m = \u001b[33mBarChart\u001b[39m(\n",
       "  mods = \u001b[33mList\u001b[39m(\n",
       "    ammonite.$sess.cmd9$Helper$$Lambda$3303/0x0000000801609f50@5f32a11e,\n",
       "    ammonite.$sess.cmd9$Helper$$Lambda$3304/0x000000080160a350@69b93c1a\n",
       "  )\n",
       ")"
      ]
     },
     "execution_count": 10,
     "metadata": {},
     "output_type": "execute_result"
    }
   ],
   "source": [
    "import $ivy.`io.github.quafadas::dedav4s:0.2.1`\n",
    "import viz.PlotTargets.almond\n",
    "import viz.vega.plots.*\n",
    "\n",
    "BarChart(\n",
    "   List(        \n",
    "        spec => spec(\"title\") = \"Got Viz?\", \n",
    "        spec => {spec(\"height\") = 200; spec(\"width\") = 250}\n",
    "    )\n",
    ")\n"
   ]
  },
  {
   "cell_type": "code",
   "execution_count": null,
   "metadata": {},
   "outputs": [],
   "source": []
  }
 ],
 "metadata": {
  "kernelspec": {
   "display_name": "Scala (sources)",
   "language": "scala",
   "name": "scala-debug"
  },
  "language_info": {
   "codemirror_mode": "text/x-scala",
   "file_extension": ".sc",
   "mimetype": "text/x-scala",
   "name": "scala",
   "nbconvert_exporter": "script",
   "version": "2.13.6"
  },
  "orig_nbformat": 4
 },
 "nbformat": 4,
 "nbformat_minor": 2
}
